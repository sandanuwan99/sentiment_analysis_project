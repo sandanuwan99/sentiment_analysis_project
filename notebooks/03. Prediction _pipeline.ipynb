{
 "cells": [
  {
   "cell_type": "code",
   "execution_count": 245,
   "id": "8ca245ef",
   "metadata": {},
   "outputs": [],
   "source": [
    "import numpy as np\n",
    "import pandas as pd\n",
    "import re\n",
    "import string\n",
    "import pickle"
   ]
  },
  {
   "cell_type": "code",
   "execution_count": 246,
   "id": "74cfceff",
   "metadata": {},
   "outputs": [],
   "source": [
    "txt = 'good product. higly recommended.'"
   ]
  },
  {
   "cell_type": "code",
   "execution_count": 247,
   "id": "ee2903fc",
   "metadata": {},
   "outputs": [],
   "source": [
    "#Remove punctuations ('!\"#$%&\\'()*+,-./:;<=>?@[\\\\]^_`{|}~')\n",
    "def remove_punctuations(text):\n",
    "    for punctuation in string.punctuation:\n",
    "        text = text.replace(punctuation,'')\n",
    "    return text\n"
   ]
  },
  {
   "cell_type": "code",
   "execution_count": 248,
   "id": "61f8fb5c",
   "metadata": {},
   "outputs": [],
   "source": [
    "with open('../static/model/corpora/stopwords/english','r') as file:\n",
    "    sw = file.read().splitlines()\n"
   ]
  },
  {
   "cell_type": "code",
   "execution_count": 249,
   "id": "85aefd7e",
   "metadata": {},
   "outputs": [],
   "source": [
    "from nltk.stem import PorterStemmer\n",
    "ps = PorterStemmer()"
   ]
  },
  {
   "cell_type": "code",
   "execution_count": 250,
   "id": "5d7fb546",
   "metadata": {},
   "outputs": [],
   "source": [
    "def preprocessing(text):\n",
    "    data = pd.DataFrame([text],columns=['tweet'])\n",
    "    # convert uppercase to lowercase\n",
    "    data['tweet'] = data['tweet'].apply(lambda x:\" \".join(x.lower() for x in x.split()))\n",
    "    #Remove Numbers\n",
    "    data['tweet'] = data['tweet'].str.replace('\\d+','',regex=True)\n",
    "    #Remove stop word\n",
    "    data['tweet'] = data['tweet'].apply(lambda x:\" \".join(x for x in x.split() if x not in sw))\n",
    "    #remove stem\n",
    "    data['tweet'] = data['tweet'].apply(lambda x:\" \".join(ps.stem(x) for x in x.split()))\n",
    "    data['tweet'] = data['tweet'].apply(lambda x: \" \".join(re.sub(r'^https?:\\/\\/.*[\\r\\n]*', '', x, flags=re.MULTILINE) for x in x.split()))\n",
    "    data['tweet'] = data['tweet'].apply(remove_punctuations)\n",
    "    \n",
    "    return data['tweet']"
   ]
  },
  {
   "cell_type": "code",
   "execution_count": 251,
   "id": "2317d916",
   "metadata": {},
   "outputs": [],
   "source": [
    "preprocessed_txt = preprocessing(txt)"
   ]
  },
  {
   "cell_type": "code",
   "execution_count": 252,
   "id": "cb3f5d99",
   "metadata": {},
   "outputs": [
    {
     "data": {
      "text/plain": [
       "'good product. higly recommended.'"
      ]
     },
     "execution_count": 252,
     "metadata": {},
     "output_type": "execute_result"
    }
   ],
   "source": [
    "txt"
   ]
  },
  {
   "cell_type": "code",
   "execution_count": 253,
   "id": "3ed70d3f",
   "metadata": {},
   "outputs": [
    {
     "data": {
      "text/plain": [
       "0    good product higli recommended\n",
       "Name: tweet, dtype: object"
      ]
     },
     "execution_count": 253,
     "metadata": {},
     "output_type": "execute_result"
    }
   ],
   "source": [
    "preprocessed_txt"
   ]
  },
  {
   "cell_type": "code",
   "execution_count": 254,
   "id": "1bf6d616",
   "metadata": {},
   "outputs": [],
   "source": [
    "vocab = pd.read_csv('../static/model/vocabulary.txt',header=None)\n",
    "tokens = vocab[0].tolist()"
   ]
  },
  {
   "cell_type": "code",
   "execution_count": 255,
   "id": "00cc67b6",
   "metadata": {},
   "outputs": [
    {
     "data": {
      "text/plain": [
       "['test', 'android', 'app', 'beauti', 'cute']"
      ]
     },
     "execution_count": 255,
     "metadata": {},
     "output_type": "execute_result"
    }
   ],
   "source": [
    "tokens[:5]"
   ]
  },
  {
   "cell_type": "code",
   "execution_count": 256,
   "id": "6b6ffa18",
   "metadata": {},
   "outputs": [],
   "source": [
    "# vectorization\n",
    "\n",
    "def vectorizer(ds, vocabulary):\n",
    "    vectorized_lst = []\n",
    "    \n",
    "    for sentence in ds:\n",
    "        sentence_lst = np.zeros(len(vocabulary))\n",
    "        \n",
    "        for i in range(len(vocabulary)):\n",
    "            if vocabulary[i] in sentence.split():\n",
    "                sentence_lst[i] = 1\n",
    "        vectorized_lst.append(sentence_lst)\n",
    "        \n",
    "    vectorized_lst_new = np.asarray(vectorized_lst,dtype=np.flot32)\n",
    "    return vectorized_lst_new\n",
    "        "
   ]
  },
  {
   "cell_type": "code",
   "execution_count": 257,
   "id": "c5d6a68a",
   "metadata": {},
   "outputs": [],
   "source": [
    "vectorized_txt = vectorizer(preprocessing_txt,tokens)"
   ]
  },
  {
   "cell_type": "code",
   "execution_count": 258,
   "id": "6876314c",
   "metadata": {},
   "outputs": [
    {
     "data": {
      "text/plain": [
       "array([[0., 0., 0., ..., 0., 0., 0.]], dtype=float32)"
      ]
     },
     "execution_count": 258,
     "metadata": {},
     "output_type": "execute_result"
    }
   ],
   "source": [
    "vectorized_txt"
   ]
  },
  {
   "cell_type": "markdown",
   "id": "2d29de72",
   "metadata": {},
   "source": [
    "# Import Model"
   ]
  },
  {
   "cell_type": "code",
   "execution_count": 259,
   "id": "c0e12e34",
   "metadata": {},
   "outputs": [],
   "source": [
    "with open('../static/model/model.pickle','rb') as f:\n",
    "    model = pickle.load(f)"
   ]
  },
  {
   "cell_type": "code",
   "execution_count": 260,
   "id": "d3f5d1b9",
   "metadata": {},
   "outputs": [
    {
     "data": {
      "text/plain": [
       "array([1], dtype=int64)"
      ]
     },
     "execution_count": 260,
     "metadata": {},
     "output_type": "execute_result"
    }
   ],
   "source": [
    "model.predict(vectorized_txt)"
   ]
  },
  {
   "cell_type": "code",
   "execution_count": null,
   "id": "00c0b72c",
   "metadata": {},
   "outputs": [],
   "source": []
  },
  {
   "cell_type": "markdown",
   "id": "61622536",
   "metadata": {},
   "source": [
    "# Summary of Prediction Pipeline"
   ]
  },
  {
   "cell_type": "code",
   "execution_count": 292,
   "id": "1a7cc481",
   "metadata": {},
   "outputs": [],
   "source": [
    "import numpy as np\n",
    "import pandas as pd\n",
    "import re\n",
    "import string\n",
    "import pickle"
   ]
  },
  {
   "cell_type": "code",
   "execution_count": 293,
   "id": "6c885066",
   "metadata": {},
   "outputs": [],
   "source": [
    "#Remove punctuations ('!\"#$%&\\'()*+,-./:;<=>?@[\\\\]^_`{|}~')\n",
    "def remove_punctuations(text):\n",
    "    for punctuation in string.punctuation:\n",
    "        text = text.replace(punctuation,'')\n",
    "    return text\n"
   ]
  },
  {
   "cell_type": "code",
   "execution_count": 294,
   "id": "83fea86d",
   "metadata": {},
   "outputs": [],
   "source": [
    "with open('../static/model/corpora/stopwords/english','r') as file:\n",
    "    sw = file.read().splitlines()"
   ]
  },
  {
   "cell_type": "code",
   "execution_count": 295,
   "id": "50dfb3ef",
   "metadata": {},
   "outputs": [],
   "source": [
    "with open('../static/model/corpora/stopwords/english','r') as file:\n",
    "    sw = file.read().splitlines()"
   ]
  },
  {
   "cell_type": "code",
   "execution_count": 296,
   "id": "6c8ef519",
   "metadata": {},
   "outputs": [],
   "source": [
    "vocab = pd.read_csv('../static/model/vocabulary.txt',header=None)\n",
    "tokens = vocab[0].tolist()"
   ]
  },
  {
   "cell_type": "code",
   "execution_count": 297,
   "id": "f4939ecc",
   "metadata": {},
   "outputs": [],
   "source": [
    "from nltk.stem import PorterStemmer\n",
    "ps = PorterStemmer()"
   ]
  },
  {
   "cell_type": "code",
   "execution_count": 298,
   "id": "82788429",
   "metadata": {},
   "outputs": [],
   "source": [
    "def preprocessing(text):\n",
    "    data = pd.DataFrame([text],columns=['tweet'])\n",
    "    # convert uppercase to lowercase\n",
    "    data['tweet'] = data['tweet'].apply(lambda x:\" \".join(x.lower() for x in x.split()))\n",
    "    #Remove Numbers\n",
    "    data['tweet'] = data['tweet'].str.replace('\\d+','',regex=True)\n",
    "    #Remove stop word\n",
    "    data['tweet'] = data['tweet'].apply(lambda x:\" \".join(x for x in x.split() if x not in sw))\n",
    "    #remove stem\n",
    "    data['tweet'] = data['tweet'].apply(lambda x:\" \".join(ps.stem(x) for x in x.split()))\n",
    "    data['tweet'] = data['tweet'].apply(lambda x: \" \".join(re.sub(r'^https?:\\/\\/.*[\\r\\n]*', '', x, flags=re.MULTILINE) for x in x.split()))\n",
    "    data['tweet'] = data['tweet'].apply(remove_punctuations)\n",
    "    \n",
    "    return data['tweet']"
   ]
  },
  {
   "cell_type": "code",
   "execution_count": 301,
   "id": "04af2703",
   "metadata": {},
   "outputs": [],
   "source": [
    "# vectorization\n",
    "\n",
    "def vectorizer(ds, vocabulary):\n",
    "    vectorized_lst = []\n",
    "    \n",
    "    for sentence in ds:\n",
    "        sentence_lst = np.zeros(len(vocabulary))\n",
    "        \n",
    "        for i in range(len(vocabulary)):\n",
    "            if vocabulary[i] in sentence.split():\n",
    "                sentence_lst[i] = 1\n",
    "        vectorized_lst.append(sentence_lst)\n",
    "        \n",
    "    vectorized_lst_new = np.asarray(vectorized_lst,dtype=np.float32)\n",
    "    return vectorized_lst_new\n",
    "        "
   ]
  },
  {
   "cell_type": "code",
   "execution_count": 310,
   "id": "c77e7c4e",
   "metadata": {},
   "outputs": [],
   "source": [
    "def get_prediction(vectorized_text):\n",
    "    predction = model.predict(vectorized_text)\n",
    "    if predction == 1:\n",
    "        return 'Negative'\n",
    "    else:\n",
    "        return 'Positive'"
   ]
  },
  {
   "cell_type": "code",
   "execution_count": 311,
   "id": "fbd5ec12",
   "metadata": {},
   "outputs": [
    {
     "data": {
      "text/plain": [
       "'Positive'"
      ]
     },
     "execution_count": 311,
     "metadata": {},
     "output_type": "execute_result"
    }
   ],
   "source": [
    "txt = \"awesome product,. i love it\"\n",
    "preprocessed_txt = preprocessing(txt)\n",
    "vectorized_txt = vectorizer(preprocessed_txt,tokens)\n",
    "predction = get_prediction(vectorized_txt)\n",
    "predction"
   ]
  }
 ],
 "metadata": {
  "kernelspec": {
   "display_name": "Python 3 (ipykernel)",
   "language": "python",
   "name": "python3"
  },
  "language_info": {
   "codemirror_mode": {
    "name": "ipython",
    "version": 3
   },
   "file_extension": ".py",
   "mimetype": "text/x-python",
   "name": "python",
   "nbconvert_exporter": "python",
   "pygments_lexer": "ipython3",
   "version": "3.9.7"
  }
 },
 "nbformat": 4,
 "nbformat_minor": 5
}
